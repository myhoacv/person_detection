{
 "cells": [
  {
   "cell_type": "code",
   "execution_count": 7,
   "id": "d7ee03bf",
   "metadata": {},
   "outputs": [],
   "source": [
    "from ultralytics import YOLO\n",
    "\n",
    "# Load a COCO-pretrained YOLOv8n model\n",
    "model = YOLO(\"yolov8n.pt\")"
   ]
  },
  {
   "cell_type": "code",
   "execution_count": 5,
   "id": "ae1769ca",
   "metadata": {},
   "outputs": [
    {
     "name": "stdout",
     "output_type": "stream",
     "text": [
      "\n",
      "image 1/1 D:\\practice\\image\\3.png: 448x640 2 persons, 59.8ms\n",
      "Speed: 2.6ms preprocess, 59.8ms inference, 0.8ms postprocess per image at shape (1, 3, 448, 640)\n"
     ]
    }
   ],
   "source": [
    "from ultralytics import YOLO\n",
    "import cv2\n",
    "\n",
    "# Load model YOLOv8n\n",
    "model = YOLO(r\"D:\\practice\\test_practice\\yolov8n.pt\")\n",
    "\n",
    "# Đường dẫn ảnh cần dự đoán\n",
    "image_path = r\"D:\\practice\\image\\3.png\"  # thay bằng đường dẫn ảnh thật\n",
    "\n",
    "# Dự đoán\n",
    "results = model(image_path)\n",
    "\n",
    "# Lấy đối tượng kết quả đầu tiên\n",
    "boxes = results[0].boxes\n",
    "names = model.names\n",
    "\n",
    "# Đọc ảnh để vẽ\n",
    "img = cv2.imread(image_path)\n",
    "\n",
    "# Duyệt qua các box\n",
    "for box in boxes:\n",
    "    cls_id = int(box.cls[0])\n",
    "    conf = float(box.conf[0])\n",
    "    label = names[cls_id]\n",
    "    \n",
    "    if label == \"person\":  # Lọc chỉ người\n",
    "        x1, y1, x2, y2 = map(int, box.xyxy[0])\n",
    "        cv2.rectangle(img, (x1, y1), (x2, y2), (0, 255, 0), 2)\n",
    "        cv2.putText(img, f\"{label} {conf:.2f}\", (x1, y1 - 10),\n",
    "                    cv2.FONT_HERSHEY_SIMPLEX, 0.6, (0, 255, 0), 2)\n",
    "\n",
    "# Hiển thị ảnh kết quả\n",
    "cv2.imshow(\"Detected People\", img)\n",
    "cv2.waitKey(0)\n",
    "cv2.destroyAllWindows()\n"
   ]
  }
 ],
 "metadata": {
  "kernelspec": {
   "display_name": "Python 3",
   "language": "python",
   "name": "python3"
  },
  "language_info": {
   "codemirror_mode": {
    "name": "ipython",
    "version": 3
   },
   "file_extension": ".py",
   "mimetype": "text/x-python",
   "name": "python",
   "nbconvert_exporter": "python",
   "pygments_lexer": "ipython3",
   "version": "3.11.9"
  }
 },
 "nbformat": 4,
 "nbformat_minor": 5
}
